{
  "cells": [
    {
      "cell_type": "markdown",
      "metadata": {
        "id": "ODXkpkzcefnA"
      },
      "source": [
        "# Implementing ANNs with TensorFlow - Homework 01\n",
        "\n",
        "## Assignment: Implementing and Training an MLP"
      ]
    },
    {
      "cell_type": "markdown",
      "metadata": {
        "id": "Vnz9ZaqIfiGV"
      },
      "source": [
        "### Imports"
      ]
    },
    {
      "cell_type": "code",
      "execution_count": 25,
      "metadata": {
        "id": "XOtgkGMyfkA9"
      },
      "outputs": [],
      "source": [
        "import numpy as np\n",
        "import matplotlib.pyplot as plt\n",
        "\n",
        "from sklearn.datasets import load_digits\n",
        "from sklearn.preprocessing import MinMaxScaler"
      ]
    },
    {
      "cell_type": "markdown",
      "metadata": {
        "id": "4U59uz9-fVeV"
      },
      "source": [
        "### Data"
      ]
    },
    {
      "cell_type": "code",
      "execution_count": 26,
      "metadata": {
        "id": "BusgNyuL6XMl"
      },
      "outputs": [],
      "source": [
        "def generate_data():\n",
        "    \"\"\"\n",
        "    This function loads preprocesses the digits dataset by rescaling the input images,\n",
        "    one-hot encoding the targets, and finally shuffling the data.\n",
        "    \"\"\"\n",
        "    # Load the data\n",
        "    images, targets = load_digits(return_X_y = True)\n",
        "\n",
        "    # Rescale the input images into [0, 1] range\n",
        "    min_max_scaler = MinMaxScaler()\n",
        "    rescaled_input = min_max_scaler.fit_transform(images)\n",
        "\n",
        "    # One-hot encode the targets\n",
        "    one_hot_target = np.array([[int(t == i) for i in range(10)] for _, t in enumerate(targets)])\n",
        "\n",
        "    # Combine the processed data\n",
        "    data = np.array([(i, t) for i, t in zip(rescaled_input, one_hot_target)], dtype = \"object\")\n",
        "\n",
        "    # Shuffle the data\n",
        "    rng = np.random.default_rng()\n",
        "    rng.shuffle(data)\n",
        "\n",
        "    return data"
      ]
    },
    {
      "cell_type": "code",
      "execution_count": 27,
      "metadata": {
        "colab": {
          "base_uri": "https://localhost:8080/"
        },
        "id": "-KE-UR-w630f",
        "outputId": "8ef7a44e-192c-4003-be24-956a010a4af6"
      },
      "outputs": [
        {
          "name": "stdout",
          "output_type": "stream",
          "text": [
            "(1797, 2)\n"
          ]
        }
      ],
      "source": [
        "data = generate_data()\n",
        "\n",
        "# Check the shape of the data\n",
        "print(data.shape)"
      ]
    },
    {
      "cell_type": "code",
      "execution_count": 28,
      "metadata": {
        "colab": {
          "base_uri": "https://localhost:8080/",
          "height": 423
        },
        "id": "MMxIuTEk8XyZ",
        "outputId": "2f964489-7d2b-4c5c-fa71-65dacba6271f"
      },
      "outputs": [
        {
          "name": "stdout",
          "output_type": "stream",
          "text": [
            "One-hot encoded target vector: [0 0 0 0 0 0 0 0 0 1]\n"
          ]
        },
        {
          "data": {
            "image/png": "[encoded data removed]",
            "text/plain": [
              "<Figure size 432x288 with 1 Axes>"
            ]
          },
          "metadata": {
            "needs_background": "light"
          },
          "output_type": "display_data"
        }
      ],
      "source": [
        "# Check if preprocessing worked out fine by comparing target vector and input image\n",
        "print(f\"One-hot encoded target vector: {data[0, 1]}\")\n",
        "\n",
        "# Plot the corresponding image\n",
        "plt.imshow(data[0, 0].reshape(8,8), cmap=\"gray\")\n",
        "plt.axis(\"off\")\n",
        "plt.show()"
      ]
    },
    {
      "cell_type": "code",
      "execution_count": 29,
      "metadata": {
        "id": "BoNH8z4p6Tqw"
      },
      "outputs": [],
      "source": [
        "def create_minibatches(dataset, batch_size):\n",
        "    \"\"\"\n",
        "    This function creates and yields minibatches of input-target pairs in the given batch size.\n",
        "\n",
        "    Arguments:\n",
        "    dataset -- In this case, the preprocessed digits dataset\n",
        "    batch_size -- Denotes the desired size of the minibatches\n",
        "    \"\"\"\n",
        "    rng = np.random.default_rng()\n",
        "\n",
        "    batch = rng.choice(dataset, size = batch_size, replace = False)\n",
        "\n",
        "    yield np.stack(batch[:, 0]), np.stack(batch[:, 1])"
      ]
    },
    {
      "cell_type": "markdown",
      "metadata": {
        "id": "OV_tPwxdBUIt"
      },
      "source": [
        "### Activation functions & CCE loss"
      ]
    },
    {
      "cell_type": "code",
      "execution_count": 30,
      "metadata": {
        "id": "iSxMOVm48CmS"
      },
      "outputs": [],
      "source": [
        "class Sigmoid:\n",
        "    \"\"\"\n",
        "    Implements the Sigmoid activation function.\n",
        "    \"\"\"\n",
        "    def __init__(self):\n",
        "        pass\n",
        "\n",
        "    def call(self, x):\n",
        "        \"\"\"\n",
        "        Applies the sigmoid activation function to a vector of pre-activations (x).\n",
        "        \"\"\"\n",
        "        return 1/(1 + np.exp(-x))\n",
        "\n",
        "    def backward(self, x):\n",
        "        \"\"\"\n",
        "        Returns the derivate of the Sigmoid function.\n",
        "        \"\"\"\n",
        "        sigmoid = self.call(x)\n",
        "        return (sigmoid * (1 - sigmoid))"
      ]
    },
    {
      "cell_type": "code",
      "execution_count": 31,
      "metadata": {
        "id": "Enukse098YOl"
      },
      "outputs": [],
      "source": [
        "class Softmax:\n",
        "    \"\"\"\n",
        "    Implements the Softmax activation function.\n",
        "    \"\"\"\n",
        "    def __init__(self):\n",
        "        pass\n",
        "\n",
        "    def call(self, z):\n",
        "        \"\"\"\n",
        "        Applies the Softmax function to a vector of layer pre-activations (z).\n",
        "        \"\"\"\n",
        "        exp_z = np.exp(z)\n",
        "        return exp_z / np.sum(exp_z, axis=-1, keepdims=True)\n",
        "\n",
        "    def backward(self, z):\n",
        "        \"\"\"\n",
        "        Calculates the derivative of the Softmax function w.r.t. the vector z.\n",
        "        \"\"\"\n",
        "        # Extract dimensions of z\n",
        "        batch_size = z.shape[0]\n",
        "        n = z.shape[1]\n",
        "\n",
        "        # Create an array of identity matrices\n",
        "        eye = np.dstack([np.eye(n)] * batch_size)\n",
        "\n",
        "        # Calculate and combine the derivatives for every element in a batch\n",
        "        return np.stack([(eye - z.T).T[i] * z[i] for i in range(batch_size)])"
      ]
    },
    {
      "cell_type": "code",
      "execution_count": 32,
      "metadata": {
        "id": "657khUDu2baO"
      },
      "outputs": [],
      "source": [
        "class CCELoss:\n",
        "    \"\"\"\n",
        "    Implements the categorical cross-entropy loss function.\n",
        "    \"\"\"\n",
        "    def __init__(self):\n",
        "        pass\n",
        "\n",
        "    def call(self, target, y_hat):\n",
        "        \"\"\"\n",
        "        Calculates the CCE loss for a given prediction and target.\n",
        "\n",
        "        Arguments:\n",
        "        target -- The intended target for an image input\n",
        "        y_hat -- The classification prediction made by the MLP\n",
        "        \"\"\"\n",
        "        return -np.sum(target*np.log(y_hat), axis=-1)\n",
        "\n",
        "    def backward(self, target, y_hat):\n",
        "        \"\"\"\n",
        "        Returns a simplified derivate of the CCE loss. Arguments represent the same as above.\n",
        "        \"\"\"\n",
        "        return -target/y_hat"
      ]
    },
    {
      "cell_type": "markdown",
      "metadata": {
        "id": "mPpeuXjUBX3b"
      },
      "source": [
        "### Multi-Layer Perceptron"
      ]
    },
    {
      "cell_type": "code",
      "execution_count": 33,
      "metadata": {
        "id": "3i2NO2N--Dvm"
      },
      "outputs": [],
      "source": [
        "class MLPLayer:\n",
        "    \"\"\"\n",
        "    This class implements a single layer in the MLP.\n",
        "    \"\"\"\n",
        "    def __init__(self, input_size, num_units, act_func):\n",
        "        \"\"\"\n",
        "        Initializes the weights and biases of the network layer and defines its activation function\n",
        "        and learning rate.\n",
        "\n",
        "        Arguments:\n",
        "        num_units -- Number of perceptrons in the network layer\n",
        "        input_size -- Size of the input vector\n",
        "        act_func -- Denotes which activation function will be applied\n",
        "        \"\"\"\n",
        "        self.weights = np.random.normal(0, 0.2, (input_size, num_units))\n",
        "        self.bias = np.zeros((1, num_units))\n",
        "        self.act_func = act_func()\n",
        "        self.learning_rate = 0.1\n",
        "\n",
        "    def forward(self, input):\n",
        "        \"\"\"\n",
        "        Propagates the input through the network.\n",
        "        Returns the activations and pre-activations of the layer.\n",
        "\n",
        "        Arguments:\n",
        "        input -- Input vector to the respective network layer\n",
        "        \"\"\"\n",
        "        pre_activation = input @ self.weights + self.bias\n",
        "        activation = self.act_func.call(pre_activation)\n",
        "\n",
        "        return activation, pre_activation\n",
        "\n",
        "    def backward(self, input, error_signal):\n",
        "        \"\"\"\n",
        "        Propagates the error signal from subsequent layer backwards to previous layer in the network.\n",
        "        Returns the error signal for use in the previous network layer.\n",
        "\n",
        "        Arguments:\n",
        "        input -- Input vector to the respective network layer\n",
        "        error_signal -- The error signal as passed down from subsequent network layer\n",
        "        \"\"\"\n",
        "        batch_size = input.shape[0]\n",
        "        activation, pre_activation = self.forward(input)\n",
        "\n",
        "        # Calculate the error signal for the layer depending on the used activation function\n",
        "        if isinstance(self.act_func, Softmax):\n",
        "            error_signal = np.stack([error_signal[i] @ self.act_func.backward(activation)[i] for i in range(batch_size)])\n",
        "        else:\n",
        "            error_signal = error_signal * self.act_func.backward(pre_activation)\n",
        "\n",
        "        # Calculate gradients w.r.t. weights and biases\n",
        "        reshaped_input = [input.T[:,i].reshape((input.shape[1], 1)) for i in range(batch_size)]\n",
        "        reshaped_error = [error_signal[i,:].reshape((1, error_signal.shape[1])) for i in range(batch_size)]\n",
        "        d_W = np.mean([reshaped_input[i] * reshaped_error[i] for i in range(batch_size)], axis = 0)\n",
        "        d_b = np.mean(error_signal, axis=0).reshape(self.bias.shape)\n",
        "\n",
        "        # Propagate the error signal to previous layer\n",
        "        error_signal = error_signal @ self.weights.T\n",
        "\n",
        "        # Update weights and biases\n",
        "        self.weights = self.weights - self.learning_rate * d_W\n",
        "        self.bias = self.bias - self.learning_rate * d_b\n",
        "\n",
        "        return error_signal"
      ]
    },
    {
      "cell_type": "code",
      "execution_count": 34,
      "metadata": {
        "id": "h8Dh0Bp1BdIu"
      },
      "outputs": [],
      "source": [
        "class MLP:\n",
        "    \"\"\"\n",
        "    Implements the final Multi-Layer Perceptron as a combination of MLP layers.\n",
        "    \"\"\"\n",
        "    def __init__(self, input_size, hidden_layer_sizes, output_layer_size):\n",
        "        \"\"\"\n",
        "        Initializes a list of layers in the network.\n",
        "        Hidden layers use Sigmoid activation functions, while the output layer uses a Softmax.\n",
        "\n",
        "        Arguments:\n",
        "        input_size -- Denotes the size of the flattened image vectors\n",
        "        hidden_layer_sizes -- A list of the number of units in the hidden layers\n",
        "        output_layer_size -- Number of perceptrons in the output layer\n",
        "        \"\"\"\n",
        "        self.hidden_layers = []\n",
        "        for idx, _ in enumerate(hidden_layer_sizes):\n",
        "            if idx == 0:\n",
        "                self.hidden_layers.append(MLPLayer(input_size, hidden_layer_sizes[idx], Sigmoid))\n",
        "            else:\n",
        "                self.hidden_layers.append(MLPLayer(hidden_layer_sizes[idx - 1], hidden_layer_sizes[idx], Sigmoid))\n",
        "        self.output_layer = MLPLayer(hidden_layer_sizes[-1], output_layer_size, Softmax)\n",
        "\n",
        "        self.layers = self.hidden_layers + [self.output_layer]\n",
        "\n",
        "    def forward(self, input):\n",
        "        \"\"\"\n",
        "        Returns the predictions made by the MLP.\n",
        "\n",
        "        Argument:\n",
        "        input -- Input vectors (or batches) of digit images\n",
        "        \"\"\"\n",
        "        y_hat = [input]\n",
        "\n",
        "        # Pass the input through the whole network\n",
        "        for layer in self.layers:\n",
        "            activation, _ = layer.forward(y_hat[-1])\n",
        "            y_hat.append(activation)\n",
        "\n",
        "        return y_hat\n",
        "\n",
        "    def backward(self, y_hat, target):\n",
        "        \"\"\"\n",
        "        Passes the error back through the network.\n",
        "\n",
        "        Arguments:\n",
        "        y_hat -- Predictions made by the MLP for a given image batch\n",
        "        target -- The intended target for said image\n",
        "        \"\"\"\n",
        "        # Extract predictions and batch size\n",
        "        y_pred = y_hat[-1]\n",
        "        batch_size = y_hat[0].shape[0]\n",
        "\n",
        "        # Set a lower limit to prediction values\n",
        "        y_pred = np.clip(y_pred, 1e-7, np.max(y_pred))\n",
        "\n",
        "        # Calculate and backpropagate the error signal\n",
        "        error_signal = CCELoss().backward(target, y_pred)\n",
        "\n",
        "        for i in reversed(range(0, len(self.layers))):\n",
        "            error_signal = self.layers[i].backward(y_hat[i], error_signal)\n",
        "\n",
        "    def train(self, data, batch_size, epochs):\n",
        "        \"\"\"\n",
        "        Trains the network by forwarding inputs and propagating errors backwards.\n",
        "        Returns a list of recorded average losses per epoch for visualization.\n",
        "\n",
        "        Arguments:\n",
        "        data -- Preprocessed digits dataset\n",
        "        batch_size -- Size of the mini-batches\n",
        "        epochs -- Number of training iterations\n",
        "        \"\"\"\n",
        "        error_list = []\n",
        "\n",
        "        # Train the network for given number of epochs\n",
        "        for i in range(epochs):\n",
        "            epoch_loss = []\n",
        "\n",
        "            # Create predictions and store losses for image-target pairs\n",
        "            for image, target in create_minibatches(data, batch_size):\n",
        "\n",
        "                y_hat = self.forward(image)\n",
        "                self.backward(y_hat, target)\n",
        "\n",
        "                loss = np.mean(CCELoss().call(target, y_hat[-1]))\n",
        "                epoch_loss.append(loss)\n",
        "\n",
        "            # Calculate and store mean loss for the current epoch\n",
        "            avg_loss = np.mean(epoch_loss)\n",
        "            error_list.append(avg_loss)\n",
        "\n",
        "            # Show current CCE loss from time to time\n",
        "            if (i == 0) | ((i + 1) % 5000 == 0):\n",
        "                print(f\"CCE loss after epoch {i+1}: {np.round(avg_loss, 3)}\")\n",
        "\n",
        "        return error_list"
      ]
    },
    {
      "cell_type": "markdown",
      "metadata": {
        "id": "4bl0nMxb8yWu"
      },
      "source": [
        "### Training the MLP"
      ]
    },
    {
      "cell_type": "code",
      "execution_count": 35,
      "metadata": {
        "colab": {
          "base_uri": "https://localhost:8080/"
        },
        "id": "F05k7nRsF_W9",
        "outputId": "15c2c8fe-de30-4d20-ac17-dc8b8a44842f"
      },
      "outputs": [
        {
          "name": "stdout",
          "output_type": "stream",
          "text": [
            "CCE loss after epoch 1: 2.366\n"
          ]
        },
        {
          "name": "stdout",
          "output_type": "stream",
          "text": [
            "CCE loss after epoch 5000: 0.263\n"
          ]
        }
      ],
      "source": [
        "# Set training parameters\n",
        "BATCH_SIZE = 32\n",
        "EPOCHS = 5000\n",
        "\n",
        "# Set number of units in hidden layers\n",
        "hidden_layer_sizes = [32, 16]\n",
        "\n",
        "# Instantiate the model\n",
        "model = MLP(64, hidden_layer_sizes, 10)\n",
        "\n",
        "# Train the model\n",
        "losses = model.train(data, BATCH_SIZE, EPOCHS)"
      ]
    },
    {
      "cell_type": "markdown",
      "metadata": {
        "id": "a-zWEaImXkC8"
      },
      "source": [
        "### Visualization"
      ]
    },
    {
      "cell_type": "code",
      "execution_count": 36,
      "metadata": {
        "colab": {
          "base_uri": "https://localhost:8080/",
          "height": 487
        },
        "id": "Nuq3DVaNHdSR",
        "outputId": "53f35b41-ecfc-4a0c-e25f-d639db00617f"
      },
      "outputs": [
        {
          "data": {
            "image/png": "[encoded data removed]",
            "text/plain": [
              "<Figure size 720x360 with 1 Axes>"
            ]
          },
          "metadata": {
            "needs_background": "light"
          },
          "output_type": "display_data"
        }
      ],
      "source": [
        "# Plot the results\n",
        "fig, ax = plt.subplots(figsize=(10, 5))\n",
        "\n",
        "ax.plot(np.arange(1, EPOCHS + 1), losses)\n",
        "ax.set(title=\"Training Progress\", xlabel=\"Epoch\", ylabel=\"CCE Loss\", xlim=[0, 5000])\n",
        "\n",
        "plt.show()"
      ]
    },
    {
      "cell_type": "markdown",
      "metadata": {
        "id": "N61ZzdgfJ-mS"
      },
      "source": [
        "As we can see, the training loss per epoch decreases significantly over time. The variance in the losses also diminishes towards the end of the model training."
      ]
    }
  ],
  "metadata": {
    "colab": {
      "provenance": []
    },
    "kernelspec": {
      "display_name": "Python 3",
      "name": "python3"
    },
    "language_info": {
      "codemirror_mode": {
        "name": "ipython",
        "version": 3
      },
      "file_extension": ".py",
      "mimetype": "text/x-python",
      "name": "python",
      "nbconvert_exporter": "python",
      "pygments_lexer": "ipython3",
      "version": "3.9.12"
    }
  },
  "nbformat": 4,
  "nbformat_minor": 0
}
