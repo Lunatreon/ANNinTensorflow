{
 "cells": [
  {
   "cell_type": "markdown",
   "metadata": {},
   "source": [
    "Part one - have much more time then we need\n",
    "Know everything - lookup detail\n",
    "a bunch of questions \n",
    "(some multiplychoice - text - calculation)"
   ]
  },
  {
   "cell_type": "markdown",
   "metadata": {},
   "source": [
    "1. (loss function, activation func, example)\n",
    "regression - MeanSquaredError - linear - calculate the price of a house (lenghth of the cat)\n",
    "binary classification - binaryCrossentrophy - sigmoid - cat or dog ()\n",
    "n-dimensional classification - categorialCrossentrophy - softmax - cat, dog, snowball"
   ]
  },
  {
   "cell_type": "markdown",
   "metadata": {},
   "source": [
    "2. General - the analogy\n",
    "activation function\n",
    "neurons are connected to outher neurons\n",
    "bias (threshhold when the neuron is activate)\n"
   ]
  },
  {
   "cell_type": "markdown",
   "metadata": {},
   "source": [
    "3. Backpropagation"
   ]
  },
  {
   "cell_type": "code",
   "execution_count": null,
   "metadata": {
    "vscode": {
     "languageId": "plaintext"
    }
   },
   "outputs": [],
   "source": [
    "#4\n",
    "ds = ds.map(lambda img:tf.cast(img, tf.float32))\n",
    "ds = ds.map(lambda img: (img/128)-1)\n",
    "ds = ds.filter(lambda img, t: (t==5.))\n",
    "\n",
    "ds = ds.shuffle().batch().prefetch()"
   ]
  },
  {
   "cell_type": "markdown",
   "metadata": {},
   "source": [
    "5.\n",
    "train = is for training\n",
    "validation = is for validation on the training step\n",
    "test = after training to test the data\n",
    "\n",
    "to check how good the model is\n"
   ]
  }
 ],
 "metadata": {
  "language_info": {
   "name": "python"
  }
 },
 "nbformat": 4,
 "nbformat_minor": 2
}
