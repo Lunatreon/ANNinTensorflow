{
 "cells": [
  {
   "cell_type": "code",
   "execution_count": null,
   "metadata": {},
   "outputs": [],
   "source": [
    "#import matplotlib.pyplot as plt\n",
    "import numpy as np\n",
    "import tensorflow as tf\n",
    "import tensorflow_datasets as tfds"
   ]
  },
  {
   "cell_type": "code",
   "execution_count": null,
   "metadata": {},
   "outputs": [],
   "source": [
    "#data prep\n",
    "ds = tfds.load('mnist', split='train')\n",
    "\n",
    "ds = ds.map(lambda feature_dict: feature_dict['image'], feature['label'])\n",
    "ds = ds.map(lambda image, label: (tf.reshape(image,(-1)), label))\n",
    "ds = ds.map(lambda image, label: ((tf.cast(image,tf.float32)/128)-1, label))\n",
    "ds = ds.map(lambda image, label: (image, tf.F.one_hot(label, depth= 10)))\n",
    "ds = ds.shuffle(1024).batch(128)\n",
    "ds = ds.prefetch(4)\n",
    "\n",
    "for x,y in ds.take(1):\n",
    "    print(x,y)"
   ]
  },
  {
   "cell_type": "code",
   "execution_count": null,
   "metadata": {},
   "outputs": [],
   "source": [
    "#Model Creation via Subclassing from tf.keras.Model\n",
    "class MLP_Model(tf.keras.Model):\n",
    "    def __init__ (self, layer_sizes, output_size=10):\n",
    "        super().__init__()\n",
    "        self.mlp_layers = []\n",
    "        #layer_sizes e. g. [256,256]\n",
    "        for layer_size in layer_sizes:\n",
    "            new_layer = tf.keras.layers.Dense(units = layer_size, activation='sigmoid')\n",
    "            self.mlp_layers.append(new_layer)\n",
    "        self.output_layer = tf.keras.layer.Dense(units = output_size, activation='softmax')\n",
    "\n",
    "    def call(self, x):\n",
    "        for layer in self.mlp_layers:\n",
    "            x = layer(x)\n",
    "        return self.output_layer(x)\n"
   ]
  },
  {
   "cell_type": "code",
   "execution_count": null,
   "metadata": {},
   "outputs": [],
   "source": [
    "EPOCHS = 10\n",
    "\n",
    "#Training\n",
    "model = MLP_Model(layer_sizes=(256,256))\n",
    "cce = tf.keras.losses.CategoricalCrossentropy()\n",
    "optimizer = tf.keras.optimizers.legacy.SGD(learning_rate=0.02)\n",
    "ds = ds\n",
    "\n",
    "for epoch in range( EPOCHS):\n",
    "    for x, target in ds:\n",
    "        #blackmagic\n",
    "        #open a context manager\n",
    "        losses = []\n",
    "        with tf.GradientTape() as tape:\n",
    "            pred = model.call(x)\n",
    "            loss = cce(target, pred)\n",
    "        \n",
    "        gradients = tape.gardient(loss, model.variables)\n",
    "        optimizer.apply_gradients(zip(gradients, model.variables))\n",
    "        losses.append(loss.numpy())\n",
    "    print(np.mean(losses))\n"
   ]
  }
 ],
 "metadata": {
  "kernelspec": {
   "display_name": "base",
   "language": "python",
   "name": "python3"
  },
  "language_info": {
   "codemirror_mode": {
    "name": "ipython",
    "version": 3
   },
   "file_extension": ".py",
   "mimetype": "text/x-python",
   "name": "python",
   "nbconvert_exporter": "python",
   "pygments_lexer": "ipython3",
   "version": "3.9.12"
  }
 },
 "nbformat": 4,
 "nbformat_minor": 2
}
