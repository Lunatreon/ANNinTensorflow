{
 "cells": [
  {
   "cell_type": "code",
   "execution_count": 1,
   "metadata": {},
   "outputs": [
    {
     "name": "stderr",
     "output_type": "stream",
     "text": [
      "c:\\Users\\marce\\anaconda\\lib\\site-packages\\scipy\\__init__.py:146: UserWarning: A NumPy version >=1.16.5 and <1.23.0 is required for this version of SciPy (detected version 1.26.2\n",
      "  warnings.warn(f\"A NumPy version >={np_minversion} and <{np_maxversion}\"\n"
     ]
    },
    {
     "name": "stdout",
     "output_type": "stream",
     "text": [
      "WARNING:tensorflow:From c:\\Users\\marce\\anaconda\\lib\\site-packages\\keras\\src\\losses.py:2976: The name tf.losses.sparse_softmax_cross_entropy is deprecated. Please use tf.compat.v1.losses.sparse_softmax_cross_entropy instead.\n",
      "\n"
     ]
    }
   ],
   "source": [
    "#import matplotlib.pyplot as plt\n",
    "import numpy as np\n",
    "import tensorflow as tf\n",
    "import tensorflow_datasets as tfds"
   ]
  },
  {
   "cell_type": "code",
   "execution_count": 2,
   "metadata": {},
   "outputs": [
    {
     "ename": "NameError",
     "evalue": "name 'feature' is not defined",
     "output_type": "error",
     "traceback": [
      "\u001b[1;31m---------------------------------------------------------------------------\u001b[0m",
      "\u001b[1;31mNameError\u001b[0m                                 Traceback (most recent call last)",
      "\u001b[1;32mc:\\Users\\marce\\Documents\\GitHub\\ANNinTensorflow\\FlipClassroom\\secondClassroom.ipynb Cell 2\u001b[0m line \u001b[0;36m<cell line: 4>\u001b[1;34m()\u001b[0m\n\u001b[0;32m      <a href='vscode-notebook-cell:/c%3A/Users/marce/Documents/GitHub/ANNinTensorflow/FlipClassroom/secondClassroom.ipynb#W1sZmlsZQ%3D%3D?line=0'>1</a>\u001b[0m \u001b[39m#data prep\u001b[39;00m\n\u001b[0;32m      <a href='vscode-notebook-cell:/c%3A/Users/marce/Documents/GitHub/ANNinTensorflow/FlipClassroom/secondClassroom.ipynb#W1sZmlsZQ%3D%3D?line=1'>2</a>\u001b[0m ds \u001b[39m=\u001b[39m tfds\u001b[39m.\u001b[39mload(\u001b[39m'\u001b[39m\u001b[39mmnist\u001b[39m\u001b[39m'\u001b[39m, split\u001b[39m=\u001b[39m\u001b[39m'\u001b[39m\u001b[39mtrain\u001b[39m\u001b[39m'\u001b[39m)\n\u001b[1;32m----> <a href='vscode-notebook-cell:/c%3A/Users/marce/Documents/GitHub/ANNinTensorflow/FlipClassroom/secondClassroom.ipynb#W1sZmlsZQ%3D%3D?line=3'>4</a>\u001b[0m ds \u001b[39m=\u001b[39m ds\u001b[39m.\u001b[39mmap(\u001b[39mlambda\u001b[39;00m feature_dict: feature_dict[\u001b[39m'\u001b[39m\u001b[39mimage\u001b[39m\u001b[39m'\u001b[39m], feature[\u001b[39m'\u001b[39m\u001b[39mlabel\u001b[39m\u001b[39m'\u001b[39m])\n\u001b[0;32m      <a href='vscode-notebook-cell:/c%3A/Users/marce/Documents/GitHub/ANNinTensorflow/FlipClassroom/secondClassroom.ipynb#W1sZmlsZQ%3D%3D?line=4'>5</a>\u001b[0m ds \u001b[39m=\u001b[39m ds\u001b[39m.\u001b[39mmap(\u001b[39mlambda\u001b[39;00m image, label: (tf\u001b[39m.\u001b[39mreshape(image,(\u001b[39m-\u001b[39m\u001b[39m1\u001b[39m)), label))\n\u001b[0;32m      <a href='vscode-notebook-cell:/c%3A/Users/marce/Documents/GitHub/ANNinTensorflow/FlipClassroom/secondClassroom.ipynb#W1sZmlsZQ%3D%3D?line=5'>6</a>\u001b[0m ds \u001b[39m=\u001b[39m ds\u001b[39m.\u001b[39mmap(\u001b[39mlambda\u001b[39;00m image, label: ((tf\u001b[39m.\u001b[39mcast(image,tf\u001b[39m.\u001b[39mfloat32)\u001b[39m/\u001b[39m\u001b[39m128\u001b[39m)\u001b[39m-\u001b[39m\u001b[39m1\u001b[39m, label))\n",
      "\u001b[1;31mNameError\u001b[0m: name 'feature' is not defined"
     ]
    }
   ],
   "source": [
    "#data prep\n",
    "ds = tfds.load('mnist', split='train')\n",
    "\n",
    "ds = ds.map(lambda feature_dict: feature_dict['image'], feature['label'])\n",
    "ds = ds.map(lambda image, label: (tf.reshape(image,(-1)), label))\n",
    "ds = ds.map(lambda image, label: ((tf.cast(image,tf.float32)/128)-1, label))\n",
    "ds = ds.map(lambda image, label: (image, tf.F.one_hot(label, depth= 10)))\n",
    "ds = ds.shuffle(1024).batch(128)\n",
    "ds = ds.prefetch(4)\n",
    "\n",
    "for x,y in ds.take(1):\n",
    "    print(x,y)"
   ]
  },
  {
   "cell_type": "code",
   "execution_count": null,
   "metadata": {},
   "outputs": [],
   "source": [
    "#Model Creation via Subclassing from tf.keras.Model\n",
    "class MLP_Model(tf.keras.Model):\n",
    "    def __init__ (self, layer_sizes, output_size=10):\n",
    "        super().__init__()\n",
    "        self.mlp_layers = []\n",
    "        #layer_sizes e. g. [256,256]\n",
    "        for layer_size in layer_sizes:\n",
    "            new_layer = tf.keras.layers.Dense(units = layer_size, activation='sigmoid')\n",
    "            self.mlp_layers.append(new_layer)\n",
    "        self.output_layer = tf.keras.layer.Dense(units = output_size, activation='softmax')\n",
    "\n",
    "    def call(self, x):\n",
    "        for layer in self.mlp_layers:\n",
    "            x = layer(x)\n",
    "        return self.output_layer(x)\n"
   ]
  },
  {
   "cell_type": "code",
   "execution_count": null,
   "metadata": {},
   "outputs": [],
   "source": [
    "EPOCHS = 10\n",
    "\n",
    "#Training\n",
    "model = MLP_Model(layer_sizes=(256,256))\n",
    "cce = tf.keras.losses.CategoricalCrossentropy()\n",
    "optimizer = tf.keras.optimizers.legacy.SGD(learning_rate=0.02)\n",
    "ds = ds\n",
    "\n",
    "for epoch in range( EPOCHS):\n",
    "    losses = []\n",
    "    for x, target in ds:\n",
    "        #blackmagic\n",
    "        #open a context manager\n",
    "        \n",
    "        with tf.GradientTape() as tape:\n",
    "            pred = model.call(x)\n",
    "            loss = cce(target, pred)\n",
    "        \n",
    "        gradients = tape.gardient(loss, model.variables)\n",
    "        optimizer.apply_gradients(zip(gradients, model.variables))\n",
    "        losses.append(loss.numpy())\n",
    "    print(np.mean(losses))\n"
   ]
  }
 ],
 "metadata": {
  "kernelspec": {
   "display_name": "base",
   "language": "python",
   "name": "python3"
  },
  "language_info": {
   "codemirror_mode": {
    "name": "ipython",
    "version": 3
   },
   "file_extension": ".py",
   "mimetype": "text/x-python",
   "name": "python",
   "nbconvert_exporter": "python",
   "pygments_lexer": "ipython3",
   "version": "3.10.4"
  }
 },
 "nbformat": 4,
 "nbformat_minor": 2
}
